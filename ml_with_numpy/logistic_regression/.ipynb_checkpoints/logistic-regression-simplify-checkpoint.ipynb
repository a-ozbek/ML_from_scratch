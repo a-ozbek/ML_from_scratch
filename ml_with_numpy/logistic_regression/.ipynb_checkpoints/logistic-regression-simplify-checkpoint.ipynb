{
 "cells": [
  {
   "cell_type": "code",
   "execution_count": 12,
   "metadata": {},
   "outputs": [],
   "source": [
    "import numpy as np\n",
    "from tqdm import tqdm, tqdm_notebook\n",
    "from sklearn.datasets import make_classification\n",
    "from sklearn.model_selection import train_test_split\n",
    "import matplotlib.pyplot as plt\n",
    "%matplotlib inline\n",
    "RANDOM_STATE = 44"
   ]
  },
  {
   "cell_type": "code",
   "execution_count": 13,
   "metadata": {},
   "outputs": [],
   "source": [
    "class LogisticRegression:\n",
    "    \"\"\"Logistic Regression\n",
    "    \"\"\"\n",
    "    \n",
    "    def __init__(self, num_iterations, learning_rate=0.1):\n",
    "        self.num_iterations = num_iterations\n",
    "        self.learning_rate = learning_rate\n",
    "        self.w = None\n",
    "        self.b = None\n",
    "        \n",
    "    @staticmethod\n",
    "    def sigmoid(x):\n",
    "        return 1.0 / (1.0 + np.exp(-x))\n",
    "    \n",
    "    def fit(self, X, y, return_training_history=False):\n",
    "        \"\"\"Fit method\n",
    "        \n",
    "        `y` must a one-dimensional Numpy array consisting only of 0 and 1\n",
    "        \"\"\"\n",
    "        # --- input check ---\n",
    "        if not X.ndim == 2:\n",
    "            raise ValueError(\"`X` must be a 2 dimensional Numpy array\")\n",
    "        \n",
    "        if not y.ndim == 1:\n",
    "            raise ValueError(\"`y` must be 1 dimensional Numpy array\")\n",
    "            \n",
    "        y = y.reshape(-1, 1)\n",
    "            \n",
    "        # --- initialize params ---\n",
    "        self.w = np.random.rand(X.shape[1], 1) * 2 - 1.0\n",
    "        self.b = np.random.rand(1, 1) * 2 - 1.0\n",
    "        if return_training_history is True:\n",
    "            w_history = list()\n",
    "            b_history = list()\n",
    "        \n",
    "        # --- fit ---\n",
    "        for i in tqdm_notebook(range(self.num_iterations)):\n",
    "            # forward\n",
    "            y_pred = self.predict(X)\n",
    "            \n",
    "            # backward (update model params)\n",
    "            # - calculate grads\n",
    "            w_grad = np.mean(-1 * (y - y_pred) * X, axis=0, keepdims=True).T\n",
    "            b_grad = np.mean(-1 * (y - y_pred), axis=0, keepdims=True)\n",
    "            # - update params\n",
    "            self.w = self.w - self.learning_rate * w_grad\n",
    "            self.b = self.b - self.learning_rate * b_grad  \n",
    "            # - record\n",
    "            if return_training_history is True:\n",
    "                w_history.append(self.w)\n",
    "                b_history.append(self.b)\n",
    "        \n",
    "        if return_training_history is True:\n",
    "            return w_history, b_history\n",
    "    \n",
    "    def predict(self, x):\n",
    "        # --- input check ---\n",
    "        if not x.ndim == 2:\n",
    "            raise ValueError(\"`x` must be a 2 dimensional Numpy array. \\\n",
    "                                If it is only a single sample, please reshape it via x.reshape(1, -1)\")\n",
    "        \n",
    "        # --- predict ---\n",
    "        y = np.matmul(x, self.w) + self.b\n",
    "        y = self.sigmoid(y)\n",
    "        return y"
   ]
  },
  {
   "cell_type": "code",
   "execution_count": 14,
   "metadata": {},
   "outputs": [
    {
     "name": "stdout",
     "output_type": "stream",
     "text": [
      "X_train.shape: (80, 2)\n",
      "X_test.shape: (20, 2)\n",
      "y_train.shape: (80,)\n",
      "y_test.shape: (20,)\n"
     ]
    }
   ],
   "source": [
    "X, y = make_classification(n_samples=100, \n",
    "                           n_features=2, \n",
    "                           n_redundant=0, \n",
    "                           n_clusters_per_class=2, \n",
    "                           class_sep=1.5, \n",
    "                           random_state=RANDOM_STATE)\n",
    "\n",
    "X_train, X_test, y_train, y_test = train_test_split(X, y, test_size=0.2)\n",
    "print(\"X_train.shape:\", X_train.shape)\n",
    "print(\"X_test.shape:\", X_test.shape)\n",
    "print(\"y_train.shape:\", y_train.shape)\n",
    "print(\"y_test.shape:\", y_test.shape)"
   ]
  },
  {
   "cell_type": "code",
   "execution_count": null,
   "metadata": {},
   "outputs": [],
   "source": []
  },
  {
   "cell_type": "code",
   "execution_count": null,
   "metadata": {},
   "outputs": [],
   "source": []
  },
  {
   "cell_type": "code",
   "execution_count": null,
   "metadata": {},
   "outputs": [],
   "source": []
  },
  {
   "cell_type": "code",
   "execution_count": null,
   "metadata": {},
   "outputs": [],
   "source": []
  },
  {
   "cell_type": "code",
   "execution_count": null,
   "metadata": {},
   "outputs": [],
   "source": []
  },
  {
   "cell_type": "code",
   "execution_count": null,
   "metadata": {},
   "outputs": [],
   "source": []
  },
  {
   "cell_type": "code",
   "execution_count": null,
   "metadata": {},
   "outputs": [],
   "source": []
  },
  {
   "cell_type": "code",
   "execution_count": null,
   "metadata": {},
   "outputs": [],
   "source": []
  },
  {
   "cell_type": "code",
   "execution_count": null,
   "metadata": {},
   "outputs": [],
   "source": []
  },
  {
   "cell_type": "code",
   "execution_count": 49,
   "metadata": {},
   "outputs": [
    {
     "data": {
      "image/png": "[encoded data removed]",
      "text/plain": [
       "<Figure size 720x288 with 2 Axes>"
      ]
     },
     "metadata": {},
     "output_type": "display_data"
    }
   ],
   "source": [
    "# Plot\n",
    "fig = plt.figure(figsize=(10, 4))\n",
    "plt.subplot(1, 2, 1); visualize_points(X_train, y_train, title='Train')\n",
    "plt.subplot(1, 2, 2); visualize_points(X_test, y_test, title='Test')"
   ]
  },
  {
   "cell_type": "code",
   "execution_count": null,
   "metadata": {},
   "outputs": [],
   "source": []
  },
  {
   "cell_type": "code",
   "execution_count": null,
   "metadata": {},
   "outputs": [],
   "source": []
  },
  {
   "cell_type": "code",
   "execution_count": 50,
   "metadata": {},
   "outputs": [],
   "source": [
    "model = LogisticRegression(num_iterations=50, learning_rate=0.1)"
   ]
  },
  {
   "cell_type": "code",
   "execution_count": 51,
   "metadata": {},
   "outputs": [
    {
     "data": {
      "application/vnd.jupyter.widget-view+json": {
       "model_id": "2faf8b47baf84ef59e7a9a577fac94f9",
       "version_major": 2,
       "version_minor": 0
      },
      "text/plain": [
       "HBox(children=(IntProgress(value=0, max=50), HTML(value='')))"
      ]
     },
     "metadata": {},
     "output_type": "display_data"
    },
    {
     "name": "stdout",
     "output_type": "stream",
     "text": [
      "\n"
     ]
    }
   ],
   "source": [
    "hist = model.fit(X, y, return_training_history=True)"
   ]
  },
  {
   "cell_type": "code",
   "execution_count": 55,
   "metadata": {},
   "outputs": [],
   "source": [
    "arr = hist[0][0]"
   ]
  },
  {
   "cell_type": "code",
   "execution_count": 56,
   "metadata": {},
   "outputs": [
    {
     "data": {
      "text/plain": [
       "array([[-0.37506806],\n",
       "       [-0.81139147]])"
      ]
     },
     "execution_count": 56,
     "metadata": {},
     "output_type": "execute_result"
    }
   ],
   "source": [
    "arr"
   ]
  },
  {
   "cell_type": "code",
   "execution_count": null,
   "metadata": {},
   "outputs": [],
   "source": []
  },
  {
   "cell_type": "code",
   "execution_count": null,
   "metadata": {},
   "outputs": [],
   "source": []
  },
  {
   "cell_type": "code",
   "execution_count": 8,
   "metadata": {},
   "outputs": [],
   "source": [
    "y_pred = model.predict(X)"
   ]
  },
  {
   "cell_type": "code",
   "execution_count": 9,
   "metadata": {},
   "outputs": [
    {
     "data": {
      "text/plain": [
       "array([0, 1, 0, 0, 0, 0, 1, 0, 1, 0, 1, 0, 0, 1, 1, 0, 1, 1, 0, 0, 1, 1,\n",
       "       1, 1, 0, 1, 1, 1, 1, 0, 1, 1, 0, 1, 1, 1, 1, 0, 1, 0, 0, 0, 0, 0,\n",
       "       0, 0, 1, 0, 0, 0, 0, 1, 1, 1, 0, 0, 1, 1, 1, 0, 1, 1, 1, 1, 0, 1,\n",
       "       1, 1, 0, 1, 1, 0, 0, 1, 0, 0, 0, 1, 0, 0, 0, 0, 1, 0, 1, 1, 1, 1,\n",
       "       0, 1, 1, 0, 0, 0, 0, 1, 0, 1, 0, 1])"
      ]
     },
     "execution_count": 9,
     "metadata": {},
     "output_type": "execute_result"
    }
   ],
   "source": [
    "y"
   ]
  },
  {
   "cell_type": "code",
   "execution_count": null,
   "metadata": {},
   "outputs": [],
   "source": []
  },
  {
   "cell_type": "code",
   "execution_count": null,
   "metadata": {},
   "outputs": [],
   "source": []
  },
  {
   "cell_type": "code",
   "execution_count": null,
   "metadata": {},
   "outputs": [],
   "source": []
  }
 ],
 "metadata": {
  "kernelspec": {
   "display_name": "Python 3",
   "language": "python",
   "name": "python3"
  },
  "language_info": {
   "codemirror_mode": {
    "name": "ipython",
    "version": 3
   },
   "file_extension": ".py",
   "mimetype": "text/x-python",
   "name": "python",
   "nbconvert_exporter": "python",
   "pygments_lexer": "ipython3",
   "version": "3.6.5"
  }
 },
 "nbformat": 4,
 "nbformat_minor": 2
}
