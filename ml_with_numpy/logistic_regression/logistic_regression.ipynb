{
 "cells": [
  {
   "cell_type": "code",
   "execution_count": 1,
   "metadata": {},
   "outputs": [],
   "source": [
    "import numpy as np\n",
    "from tqdm import trange"
   ]
  },
  {
   "cell_type": "code",
   "execution_count": 2,
   "metadata": {},
   "outputs": [],
   "source": [
    "class LogisticRegression:\n",
    "    \"\"\"\n",
    "    Logistic Regression\n",
    "    Solving with gradient descent\n",
    "    with batch size of 1\n",
    "    Only supports binary classification\n",
    "    \"\"\"    \n",
    "    \n",
    "    def __init__(self, learning_rate=0.1):\n",
    "        self.w = None  # weights \n",
    "        self.b = None  # bias\n",
    "        self.learning_rate = learning_rate\n",
    "        \n",
    "    @staticmethod\n",
    "    def sigmoid(x):\n",
    "        return 1.0 / (1.0 + np.exp(-x))\n",
    "    \n",
    "    @staticmethod\n",
    "    def d_sigmoid(x):\n",
    "        \"\"\"\n",
    "        Derivative of sigmoid\n",
    "        \"\"\"\n",
    "        return LogisticRegression.sigmoid(x) * (1.0 - LogisticRegression.sigmoid(x))     \n",
    "    \n",
    "    def fit(self, X, Y, epochs=1, silent=True):\n",
    "        # get input dimensionality\n",
    "        input_dimensionality = X.shape[1]\n",
    "        \n",
    "        # initialize w and b\n",
    "        self.w = (np.random.rand(input_dimensionality) * 2) - 1.0\n",
    "        self.b = (np.random.rand() * 2) - 1.0\n",
    "        \n",
    "        # start gradient descent\n",
    "        for n_epoch in range(epochs):\n",
    "            t = trange(len(X), desc='Epoch: {n_epoch}, Training MSE:'.format(n_epoch=str(n_epoch)), leave=True)\n",
    "            for x, y, t_i in zip(X, Y, t):\n",
    "                # do forward pass\n",
    "                output = self.sigmoid((x * self.w).sum() + self.b)               \n",
    "                \n",
    "                # calculate gradient\n",
    "                # gradient (dE/dw) = dE/doutput * doutput/dalpha * dalpha/dw\n",
    "                dE_doutput = 2 * (y - output) * -1  # MSE\n",
    "                doutput_dalpha = output * (1.0 - output)\n",
    "                dalpha_dw = x\n",
    "                dE_dw = dE_doutput * doutput_dalpha * dalpha_dw  # gradient\n",
    "                \n",
    "                # gradient (dE/db) = dE/doutput * doutput/dalpha\n",
    "                dE_db = dE_doutput * doutput_dalpha\n",
    "\n",
    "                # update parameters\n",
    "                self.w = self.w - self.learning_rate * dE_dw\n",
    "                self.b = self.b - self.learning_rate * dE_db\n",
    "#                 print('self.w:', self.w)\n",
    "#                 print('self.b:', self.b)\n",
    "#                 print('dE_dw:', dE_dw)\n",
    "#                 print('dE_db', dE_db)                \n",
    "#                 print('(x * self.w).sum() + self.b:', (x * self.w).sum() + self.b)\n",
    "#                 print('output:', output)\n",
    "#                 print('dE_doutput:', dE_doutput)\n",
    "#                 print('doutput_dalpha:', doutput_dalpha)\n",
    "#                 print('dalpha_dw:', dalpha_dw)\n",
    "                \n",
    "                \n",
    "                if not silent:\n",
    "                    # calculate_error\n",
    "                    error = ((self.predict(X) - Y) ** 2).mean()\n",
    "                    t.set_description(\"Epoch: {n_epoch}, Training MSE: {error}\".format(n_epoch=str(n_epoch+1), \n",
    "                                                                                        error=str(error)))\n",
    "                    t.refresh()\n",
    "                      \n",
    "    def predict(self, X):\n",
    "        if self.w is None:\n",
    "            raise ValueError(\"Please call fit data\")\n",
    "        \n",
    "        predictions = list()\n",
    "        for x in X:\n",
    "            p = (x * self.w).sum() + self.b\n",
    "            p = self.sigmoid(p)\n",
    "            predictions.append(p)\n",
    "            \n",
    "        return np.array(predictions)"
   ]
  },
  {
   "cell_type": "code",
   "execution_count": 10,
   "metadata": {},
   "outputs": [],
   "source": [
    "from sklearn.datasets import load_breast_cancer\n",
    "from sklearn.model_selection import train_test_split\n",
    "from sklearn.preprocessing import MinMaxScaler\n",
    "from sklearn import metrics"
   ]
  },
  {
   "cell_type": "code",
   "execution_count": 4,
   "metadata": {},
   "outputs": [
    {
     "name": "stdout",
     "output_type": "stream",
     "text": [
      "X_train.shape: (426, 30)\n",
      "X_test.shape: (143, 30)\n",
      "y_train.shape: (426,)\n",
      "y_test.shape: (143,)\n"
     ]
    }
   ],
   "source": [
    "X, y = load_breast_cancer(return_X_y=True)\n",
    "X_train, X_test, y_train, y_test = train_test_split(X, y)\n",
    "print('X_train.shape:', X_train.shape)\n",
    "print('X_test.shape:', X_test.shape)\n",
    "print('y_train.shape:', y_train.shape)\n",
    "print('y_test.shape:', y_test.shape)"
   ]
  },
  {
   "cell_type": "code",
   "execution_count": 5,
   "metadata": {},
   "outputs": [],
   "source": [
    "model = LogisticRegression()"
   ]
  },
  {
   "cell_type": "code",
   "execution_count": 6,
   "metadata": {},
   "outputs": [],
   "source": [
    "min_max_scaler = MinMaxScaler(feature_range=(-1, 1))\n",
    "X_train = min_max_scaler.fit_transform(X_train)\n",
    "X_test = min_max_scaler.transform(X_test)"
   ]
  },
  {
   "cell_type": "code",
   "execution_count": null,
   "metadata": {},
   "outputs": [],
   "source": []
  },
  {
   "cell_type": "code",
   "execution_count": 7,
   "metadata": {},
   "outputs": [
    {
     "name": "stderr",
     "output_type": "stream",
     "text": [
      "Epoch: 1, Training MSE: 0.05554791487331326:  95%|█████████▍| 403/426 [00:01<00:00, 323.10it/s] \n",
      "Epoch: 1, Training MSE::   0%|          | 0/426 [00:00<?, ?it/s]\u001b[A\n",
      "Epoch: 2, Training MSE: 0.04380500025913699:  97%|█████████▋| 413/426 [00:01<00:00, 358.12it/s] \n",
      "Epoch: 2, Training MSE::   0%|          | 0/426 [00:00<?, ?it/s]\u001b[A\n",
      "Epoch: 3, Training MSE: 0.0385715165860782:  95%|█████████▍| 403/426 [00:01<00:00, 331.41it/s]  \n",
      "Epoch: 3, Training MSE::   0%|          | 0/426 [00:00<?, ?it/s]\u001b[A\n",
      "Epoch: 4, Training MSE: 0.03537716721578844:  96%|█████████▌| 410/426 [00:01<00:00, 349.85it/s] \n",
      "Epoch: 4, Training MSE::   0%|          | 0/426 [00:00<?, ?it/s]\u001b[A\n",
      "Epoch: 5, Training MSE: 0.03315379799179465:  96%|█████████▌| 410/426 [00:01<00:00, 348.13it/s] \n"
     ]
    }
   ],
   "source": [
    "model.fit(X_train, y_train, epochs=5, silent=False)"
   ]
  },
  {
   "cell_type": "code",
   "execution_count": null,
   "metadata": {},
   "outputs": [],
   "source": []
  },
  {
   "cell_type": "code",
   "execution_count": 12,
   "metadata": {
    "scrolled": true
   },
   "outputs": [
    {
     "name": "stdout",
     "output_type": "stream",
     "text": [
      "              precision    recall  f1-score   support\n",
      "\n",
      "           0       0.98      0.92      0.95        50\n",
      "           1       0.96      0.99      0.97        93\n",
      "\n",
      "   micro avg       0.97      0.97      0.97       143\n",
      "   macro avg       0.97      0.95      0.96       143\n",
      "weighted avg       0.97      0.97      0.96       143\n",
      "\n"
     ]
    }
   ],
   "source": [
    "print(metrics.classification_report(y_test, model.predict(X_test) > 0.5))"
   ]
  },
  {
   "cell_type": "code",
   "execution_count": null,
   "metadata": {},
   "outputs": [],
   "source": []
  }
 ],
 "metadata": {
  "kernelspec": {
   "display_name": "Python 3",
   "language": "python",
   "name": "python3"
  },
  "language_info": {
   "codemirror_mode": {
    "name": "ipython",
    "version": 3
   },
   "file_extension": ".py",
   "mimetype": "text/x-python",
   "name": "python",
   "nbconvert_exporter": "python",
   "pygments_lexer": "ipython3",
   "version": "3.6.5"
  }
 },
 "nbformat": 4,
 "nbformat_minor": 2
}
