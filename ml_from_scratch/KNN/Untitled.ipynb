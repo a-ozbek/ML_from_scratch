{
 "cells": [
  {
   "cell_type": "code",
   "execution_count": 1,
   "metadata": {
    "collapsed": true
   },
   "outputs": [],
   "source": [
    "import numpy as np"
   ]
  },
  {
   "cell_type": "code",
   "execution_count": 2,
   "metadata": {
    "collapsed": true
   },
   "outputs": [],
   "source": [
    "class KNNClassifier:\n",
    "    \"\"\"\n",
    "    Classification by k nearest neighbors \n",
    "    and euclidian distance\n",
    "    \"\"\"\n",
    "    \n",
    "    def __init__(self, k=5):\n",
    "        self.k = k    \n",
    "    \n",
    "    def fit(self, X, y):\n",
    "        self.X = X\n",
    "        self.y = y\n",
    "    \n",
    "    @staticmethod\n",
    "    def get_majority_class(y):\n",
    "        y = np.array(y)\n",
    "        classes = np.unique(y)\n",
    "        return int(sorted([(c, (y == c).sum()) for c in classes], \n",
    "                          key=lambda x: x[1])[-1][0])            \n",
    "    \n",
    "    def _predict_sample(self, x):\n",
    "        x = x.reshape(1, -1)\n",
    "        X_sample = np.repeat(x.reshape(1, -1), repeats=len(self.X), axis=0)\n",
    "        distances = np.sum((self.X - X_sample) ** 2, axis=1)\n",
    "        top_k_classes = sorted(zip(distances, self.y), key=lambda x: x[0])[:self.k]\n",
    "        return self.get_majority_class(top_k_classes)    \n",
    "    \n",
    "    def predict(self, X):\n",
    "        \n",
    "        if self.X is None:\n",
    "            raise ValueError(\"Please call fit method\")\n",
    "            \n",
    "        y_predicted = []\n",
    "        for x in X:\n",
    "            y_predicted.append(self._predict_sample(x))\n",
    "        \n",
    "        return np.array(y_predicted)        "
   ]
  },
  {
   "cell_type": "markdown",
   "metadata": {},
   "source": [
    "# Test"
   ]
  },
  {
   "cell_type": "code",
   "execution_count": 3,
   "metadata": {},
   "outputs": [],
   "source": [
    "from sklearn.datasets import load_breast_cancer\n",
    "from sklearn.model_selection import train_test_split\n",
    "from sklearn.neighbors import KNeighborsClassifier\n",
    "import matplotlib.pyplot as plt\n",
    "%matplotlib inline"
   ]
  },
  {
   "cell_type": "code",
   "execution_count": 4,
   "metadata": {
    "scrolled": true
   },
   "outputs": [
    {
     "name": "stdout",
     "output_type": "stream",
     "text": [
      "('X_train.shape:', (455, 30))\n",
      "('X_test.shape:', (114, 30))\n",
      "('y_train.shape:', (455,))\n",
      "('y_test.shape:', (114,))\n"
     ]
    }
   ],
   "source": [
    "data = load_breast_cancer()\n",
    "X = data.data\n",
    "y = data.target\n",
    "X_train, X_test, y_train, y_test = train_test_split(X, y, \n",
    "                                                    test_size=0.2, \n",
    "                                                    random_state=43)\n",
    "print('X_train.shape:', X_train.shape)\n",
    "print('X_test.shape:', X_test.shape)\n",
    "print('y_train.shape:', y_train.shape)\n",
    "print('y_test.shape:', y_test.shape)"
   ]
  },
  {
   "cell_type": "code",
   "execution_count": 5,
   "metadata": {},
   "outputs": [],
   "source": [
    "model_knn = KNNClassifier(k=5)\n",
    "model_knn_sk = KNeighborsClassifier(n_neighbors=5)"
   ]
  },
  {
   "cell_type": "code",
   "execution_count": 6,
   "metadata": {
    "collapsed": true
   },
   "outputs": [],
   "source": [
    "# model\n",
    "model_knn.fit(X_train, y_train)\n",
    "y_predicted = model_knn.predict(X_test)\n",
    "# model sk\n",
    "model_knn_sk.fit(X_train, y_train)\n",
    "y_predicted_sk = model_knn_sk.predict(X_test)"
   ]
  },
  {
   "cell_type": "code",
   "execution_count": 7,
   "metadata": {},
   "outputs": [
    {
     "name": "stdout",
     "output_type": "stream",
     "text": [
      "0.956140350877193\n",
      "0.956140350877193\n"
     ]
    }
   ],
   "source": [
    "print((y_test == y_predicted).mean())\n",
    "print((y_test == y_predicted_sk).mean())"
   ]
  },
  {
   "cell_type": "code",
   "execution_count": null,
   "metadata": {
    "collapsed": true
   },
   "outputs": [],
   "source": []
  }
 ],
 "metadata": {
  "kernelspec": {
   "display_name": "Python 2",
   "language": "python",
   "name": "python2"
  },
  "language_info": {
   "codemirror_mode": {
    "name": "ipython",
    "version": 2
   },
   "file_extension": ".py",
   "mimetype": "text/x-python",
   "name": "python",
   "nbconvert_exporter": "python",
   "pygments_lexer": "ipython2",
   "version": "2.7.12"
  }
 },
 "nbformat": 4,
 "nbformat_minor": 2
}
