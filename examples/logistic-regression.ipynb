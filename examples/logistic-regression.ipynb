{
 "cells": [
  {
   "cell_type": "markdown",
   "metadata": {},
   "source": [
    "This notebook generates a GIF that visualizes the training progress for each step"
   ]
  },
  {
   "cell_type": "code",
   "execution_count": null,
   "metadata": {},
   "outputs": [],
   "source": [
    "GIF_PATH = None\n",
    "NUM_ITERATIONS = 50"
   ]
  },
  {
   "cell_type": "code",
   "execution_count": null,
   "metadata": {},
   "outputs": [],
   "source": [
    "import os\n",
    "import tempfile\n",
    "import imageio\n",
    "import numpy as np\n",
    "from tqdm import tqdm, tqdm_notebook\n",
    "import matplotlib.pyplot as plt\n",
    "from sklearn.datasets import make_classification\n",
    "from sklearn.model_selection import train_test_split\n",
    "from sklearn.metrics import confusion_matrix\n",
    "RANDOM_STATE = 48\n",
    "from ml_with_numpy.logistic_regression import util\n",
    "from ml_with_numpy.logistic_regression.logistic_regression import LogisticRegression"
   ]
  },
  {
   "cell_type": "code",
   "execution_count": null,
   "metadata": {},
   "outputs": [],
   "source": [
    "# generate a classification dataset\n",
    "X, y = make_classification(n_samples=200, \n",
    "                           n_features=2, \n",
    "                           n_redundant=0, \n",
    "                           n_clusters_per_class=2, \n",
    "                           class_sep=1.5, \n",
    "                           flip_y=0.05,\n",
    "                           random_state=RANDOM_STATE)\n",
    "\n",
    "X_train, X_test, y_train, y_test = train_test_split(X, y, test_size=0.2)\n",
    "print(\"X_train.shape:\", X_train.shape)\n",
    "print(\"X_test.shape:\", X_test.shape)\n",
    "print(\"y_train.shape:\", y_train.shape)\n",
    "print(\"y_test.shape:\", y_test.shape)"
   ]
  },
  {
   "cell_type": "code",
   "execution_count": null,
   "metadata": {},
   "outputs": [],
   "source": [
    "# Plot\n",
    "fig = plt.figure(figsize=(10, 4))\n",
    "plt.subplot(1, 2, 1); util.visualize_points(X_train, y_train, title='Train')\n",
    "plt.subplot(1, 2, 2); util.visualize_points(X_test, y_test, title='Test')"
   ]
  },
  {
   "cell_type": "code",
   "execution_count": null,
   "metadata": {},
   "outputs": [],
   "source": [
    "# fit and train model\n",
    "model = LogisticRegression(num_iterations=50, learning_rate=0.1, silent=False)\n",
    "hist = model.fit(X_train, y_train, return_training_history=True)"
   ]
  },
  {
   "cell_type": "code",
   "execution_count": null,
   "metadata": {},
   "outputs": [],
   "source": [
    "def get_counter(i, n_slots):\n",
    "    i = str(i)\n",
    "    if len(i) > n_slots:\n",
    "        raise ValueError(\"i too long\")\n",
    "    return \"0\" * (n_slots - len(i)) + i"
   ]
  },
  {
   "cell_type": "code",
   "execution_count": null,
   "metadata": {},
   "outputs": [],
   "source": [
    "# generate training gif\n",
    "filenames = list()\n",
    "x1, x2 = util.get_lim_range(X, axis=0, margin_ratio=0.1)\n",
    "y_lim = util.get_lim_range(X, axis=1, margin_ratio=0.2)\n",
    "with tempfile.TemporaryDirectory() as tempdir:\n",
    "    for i, (w, b) in tqdm_notebook(enumerate(zip(*hist))):\n",
    "        y1, y2 = util.get_points(x1, x2, w, b)\n",
    "        # Plot\n",
    "        fig = plt.figure()\n",
    "        util.visualize_points(X_train, y_train, title=\"Iteration: {}\".format(str(i)), x_lim=[x1, x2], y_lim=list(y_lim))\n",
    "        util.visualize_line(x1, x2, y1, y2, color='g')\n",
    "        filename = os.path.join(tempdir, get_counter(i, len(str(NUM_ITERATIONS)) + 1) + \".png\")\n",
    "        filenames.append(filename)\n",
    "        fig.savefig(filename)\n",
    "        plt.close()\n",
    "    imageio.mimsave(GIF_PATH, [imageio.imread(f) for f in filenames])"
   ]
  },
  {
   "cell_type": "code",
   "execution_count": null,
   "metadata": {},
   "outputs": [],
   "source": [
    "# Results\n",
    "y_train_pred = (model.predict(X_train).flatten() > 0.5).astype(np.int)\n",
    "y_test_pred = (model.predict(X_test).flatten() > 0.5).astype(np.int)\n",
    "\n",
    "print(\"Train Confusion Matrix:\")\n",
    "print(confusion_matrix(y_train, y_train_pred))\n",
    "print(\"\")\n",
    "print(\"Test Confusion Matrix:\")\n",
    "print(confusion_matrix(y_test, y_test_pred))"
   ]
  },
  {
   "cell_type": "code",
   "execution_count": null,
   "metadata": {},
   "outputs": [],
   "source": []
  }
 ],
 "metadata": {
  "kernelspec": {
   "display_name": "Python 3",
   "language": "python",
   "name": "python3"
  },
  "language_info": {
   "codemirror_mode": {
    "name": "ipython",
    "version": 3
   },
   "file_extension": ".py",
   "mimetype": "text/x-python",
   "name": "python",
   "nbconvert_exporter": "python",
   "pygments_lexer": "ipython3",
   "version": "3.6.5"
  }
 },
 "nbformat": 4,
 "nbformat_minor": 2
}
